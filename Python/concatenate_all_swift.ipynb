{
 "cells": [
  {
   "cell_type": "code",
   "execution_count": 4,
   "metadata": {},
   "outputs": [
    {
     "name": "stdout",
     "output_type": "stream",
     "text": [
      "All Swift files in '../Equipment Booking/' have been concatenated to 'all_swift_files_v7.txt'.\n"
     ]
    }
   ],
   "source": [
    "import os\n",
    "\n",
    "def concatenate_swift_files(folder_path, output_file):\n",
    "  \"\"\"\n",
    "  Concatenates all *.swift files within a given folder into a single output file.\n",
    "\n",
    "  Args:\n",
    "    folder_path: The path to the folder containing the Swift files.\n",
    "    output_file: The path to the output file where the concatenated content will be written.\n",
    "  \"\"\"\n",
    "\n",
    "  with open(output_file, 'w') as outfile:\n",
    "    for root, dirs, files in os.walk(folder_path):\n",
    "      for file in files:\n",
    "        if file.endswith(\".swift\"):\n",
    "          file_path = os.path.join(root, file)\n",
    "          with open(file_path, 'r') as infile:\n",
    "            outfile.write(f\"// Content from: {file_path}\\n\\n\")\n",
    "            outfile.write(infile.read())\n",
    "            outfile.write(\"\\n\\n\")\n",
    "\n",
    "if __name__ == \"__main__\":\n",
    "  folder_path = \"../Equipment Booking/\"  # Replace with the actual folder path\n",
    "  output_file = \"all_swift_files_v7.txt\"\n",
    "  concatenate_swift_files(folder_path, output_file)\n",
    "  print(f\"All Swift files in '{folder_path}' have been concatenated to '{output_file}'.\")\n",
    "\n"
   ]
  }
 ],
 "metadata": {
  "kernelspec": {
   "display_name": "base",
   "language": "python",
   "name": "python3"
  },
  "language_info": {
   "codemirror_mode": {
    "name": "ipython",
    "version": 3
   },
   "file_extension": ".py",
   "mimetype": "text/x-python",
   "name": "python",
   "nbconvert_exporter": "python",
   "pygments_lexer": "ipython3",
   "version": "3.11.7"
  }
 },
 "nbformat": 4,
 "nbformat_minor": 2
}
